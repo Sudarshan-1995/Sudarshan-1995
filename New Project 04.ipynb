{
 "cells": [
  {
   "cell_type": "code",
   "execution_count": null,
   "metadata": {},
   "outputs": [],
   "source": [
    "One of the leading retail stores in the US, Walmart, would like to predict the sales and demand accurately. \n",
    "There are certain events and holidays which impact sales on each day. There are sales data available for 45\n",
    "stores of Walmart. The business is facing a challenge due to unforeseen demands and runs out of stock \n",
    "some times, due to the inappropriate machine learning algorithm. An ideal ML algorithm will predict demand\n",
    "accurately and ingest factors like economic conditions including CPI, Unemployment Index, etc.\n",
    "\n",
    "Walmart runs several promotional markdown events throughout the year. These markdowns precede prominent \n",
    "holidays, the four largest of all, which are the Super Bowl, Labour Day, Thanksgiving, and Christmas. The\n",
    "weeks including these holidays are weighted five times higher in the evaluation than non-holiday weeks. Part \n",
    "of the challenge presented by this competition is modeling the effects of markdowns on these holiday weeks in\n",
    "the absence of complete/ideal historical data. Historical sales data for 45 Walmart stores located in different\n",
    "regions are available."
   ]
  },
  {
   "cell_type": "code",
   "execution_count": 13,
   "metadata": {},
   "outputs": [
    {
     "data": {
      "text/html": [
       "<div>\n",
       "<style scoped>\n",
       "    .dataframe tbody tr th:only-of-type {\n",
       "        vertical-align: middle;\n",
       "    }\n",
       "\n",
       "    .dataframe tbody tr th {\n",
       "        vertical-align: top;\n",
       "    }\n",
       "\n",
       "    .dataframe thead th {\n",
       "        text-align: right;\n",
       "    }\n",
       "</style>\n",
       "<table border=\"1\" class=\"dataframe\">\n",
       "  <thead>\n",
       "    <tr style=\"text-align: right;\">\n",
       "      <th></th>\n",
       "      <th>Store</th>\n",
       "      <th>Date</th>\n",
       "      <th>Weekly_Sales</th>\n",
       "      <th>Holiday_Flag</th>\n",
       "      <th>Temperature</th>\n",
       "      <th>Fuel_Price</th>\n",
       "      <th>CPI</th>\n",
       "      <th>Unemployment</th>\n",
       "    </tr>\n",
       "  </thead>\n",
       "  <tbody>\n",
       "    <tr>\n",
       "      <th>0</th>\n",
       "      <td>1</td>\n",
       "      <td>05-02-2010</td>\n",
       "      <td>1643690.90</td>\n",
       "      <td>0</td>\n",
       "      <td>42.31</td>\n",
       "      <td>2.572</td>\n",
       "      <td>211.096358</td>\n",
       "      <td>8.106</td>\n",
       "    </tr>\n",
       "    <tr>\n",
       "      <th>1</th>\n",
       "      <td>1</td>\n",
       "      <td>12-02-2010</td>\n",
       "      <td>1641957.44</td>\n",
       "      <td>1</td>\n",
       "      <td>38.51</td>\n",
       "      <td>2.548</td>\n",
       "      <td>211.242170</td>\n",
       "      <td>8.106</td>\n",
       "    </tr>\n",
       "    <tr>\n",
       "      <th>2</th>\n",
       "      <td>1</td>\n",
       "      <td>19-02-2010</td>\n",
       "      <td>1611968.17</td>\n",
       "      <td>0</td>\n",
       "      <td>39.93</td>\n",
       "      <td>2.514</td>\n",
       "      <td>211.289143</td>\n",
       "      <td>8.106</td>\n",
       "    </tr>\n",
       "    <tr>\n",
       "      <th>3</th>\n",
       "      <td>1</td>\n",
       "      <td>26-02-2010</td>\n",
       "      <td>1409727.59</td>\n",
       "      <td>0</td>\n",
       "      <td>46.63</td>\n",
       "      <td>2.561</td>\n",
       "      <td>211.319643</td>\n",
       "      <td>8.106</td>\n",
       "    </tr>\n",
       "    <tr>\n",
       "      <th>4</th>\n",
       "      <td>1</td>\n",
       "      <td>05-03-2010</td>\n",
       "      <td>1554806.68</td>\n",
       "      <td>0</td>\n",
       "      <td>46.50</td>\n",
       "      <td>2.625</td>\n",
       "      <td>211.350143</td>\n",
       "      <td>8.106</td>\n",
       "    </tr>\n",
       "  </tbody>\n",
       "</table>\n",
       "</div>"
      ],
      "text/plain": [
       "   Store        Date  Weekly_Sales  Holiday_Flag  Temperature  Fuel_Price  \\\n",
       "0      1  05-02-2010    1643690.90             0        42.31       2.572   \n",
       "1      1  12-02-2010    1641957.44             1        38.51       2.548   \n",
       "2      1  19-02-2010    1611968.17             0        39.93       2.514   \n",
       "3      1  26-02-2010    1409727.59             0        46.63       2.561   \n",
       "4      1  05-03-2010    1554806.68             0        46.50       2.625   \n",
       "\n",
       "          CPI  Unemployment  \n",
       "0  211.096358         8.106  \n",
       "1  211.242170         8.106  \n",
       "2  211.289143         8.106  \n",
       "3  211.319643         8.106  \n",
       "4  211.350143         8.106  "
      ]
     },
     "execution_count": 13,
     "metadata": {},
     "output_type": "execute_result"
    }
   ],
   "source": [
    "import matplotlib.pyplot as plt\n",
    "import pandas as pd\n",
    "data=pd.read_csv('Walmart_Store_sales.csv')\n",
    "data.head()"
   ]
  },
  {
   "cell_type": "code",
   "execution_count": 4,
   "metadata": {},
   "outputs": [
    {
     "data": {
      "text/plain": [
       "Index(['Store', 'Date', 'Weekly_Sales', 'Holiday_Flag', 'Temperature',\n",
       "       'Fuel_Price', 'CPI', 'Unemployment'],\n",
       "      dtype='object')"
      ]
     },
     "execution_count": 4,
     "metadata": {},
     "output_type": "execute_result"
    }
   ],
   "source": [
    "data.columns"
   ]
  },
  {
   "cell_type": "code",
   "execution_count": 5,
   "metadata": {},
   "outputs": [
    {
     "name": "stdout",
     "output_type": "stream",
     "text": [
      "The store with the maximum sales is Store 20\n",
      "The maximum sales value is $301397792.46\n"
     ]
    }
   ],
   "source": [
    "store_sales = data.groupby('Store')['Weekly_Sales'].sum()\n",
    "store_with_max_sales = store_sales.idxmax()\n",
    "max_sales_value = store_sales.max()\n",
    "print(f\"The store with the maximum sales is Store {store_with_max_sales}\")\n",
    "print(f\"The maximum sales value is ${max_sales_value:.2f}\")\n"
   ]
  },
  {
   "cell_type": "code",
   "execution_count": 6,
   "metadata": {},
   "outputs": [
    {
     "name": "stdout",
     "output_type": "stream",
     "text": [
      "The store with the maximum standard deviation is Store 14\n",
      "The maximum standard deviation in sales is $317569.95\n",
      "Coefficient of mean to standard deviation for each store:\n",
      "Store\n",
      "1      9.970873\n",
      "2      8.102160\n",
      "3      8.694034\n",
      "4      7.868902\n",
      "5      8.426840\n",
      "6      7.362531\n",
      "7      5.068303\n",
      "8      8.550456\n",
      "9      7.880502\n",
      "10     6.284032\n",
      "11     8.179167\n",
      "12     7.250300\n",
      "13     7.546394\n",
      "14     6.363884\n",
      "15     5.171059\n",
      "16     6.053978\n",
      "17     7.966815\n",
      "18     6.140790\n",
      "19     7.536924\n",
      "20     7.639263\n",
      "21     5.872253\n",
      "22     6.378248\n",
      "23     5.564175\n",
      "24     8.088169\n",
      "25     6.255458\n",
      "26     9.081773\n",
      "27     7.398888\n",
      "28     7.281744\n",
      "29     5.442400\n",
      "30    19.227797\n",
      "31    11.091264\n",
      "32     8.452336\n",
      "33    10.767931\n",
      "34     9.239989\n",
      "35     4.353863\n",
      "36     6.150859\n",
      "37    23.761933\n",
      "38     9.019129\n",
      "39     6.670767\n",
      "40     8.101772\n",
      "41     6.748681\n",
      "42    11.069866\n",
      "43    15.599741\n",
      "44    12.225939\n",
      "45     6.038183\n",
      "Name: Weekly_Sales, dtype: float64\n"
     ]
    }
   ],
   "source": [
    "store_sales_std = data.groupby('Store')['Weekly_Sales'].std()\n",
    "store_sales_mean = data.groupby('Store')['Weekly_Sales'].mean()\n",
    "store_with_max_std = store_sales_std.idxmax()\n",
    "max_std_value = store_sales_std.max()\n",
    "coefficient_of_variation = store_sales_mean / store_sales_std\n",
    "print(f\"The store with the maximum standard deviation is Store {store_with_max_std}\")\n",
    "print(f\"The maximum standard deviation in sales is ${max_std_value:.2f}\")\n",
    "print(\"Coefficient of mean to standard deviation for each store:\")\n",
    "print(coefficient_of_variation)\n"
   ]
  },
  {
   "cell_type": "code",
   "execution_count": 10,
   "metadata": {},
   "outputs": [
    {
     "name": "stdout",
     "output_type": "stream",
     "text": [
      "No stores with positive quarterly growth rate in Q3'2012.\n"
     ]
    }
   ],
   "source": [
    "data['Date'] = pd.to_datetime(data['Date'])\n",
    "q2_2012 = data[(data['Date'] >= '2012-04-01') & (data['Date'] <= '2012-06-30')]\n",
    "q3_2012 = data[(data['Date'] >= '2012-07-01') & (data['Date'] <= '2012-09-30')]\n",
    "q2_2012_sales = q2_2012.groupby('Store')['Weekly_Sales'].sum()\n",
    "q3_2012_sales = q3_2012.groupby('Store')['Weekly_Sales'].sum()\n",
    "quarterly_growth_rate = (q3_2012_sales - q2_2012_sales) / q2_2012_sales * 100\n",
    "stores_with_good_growth = quarterly_growth_rate[quarterly_growth_rate > 0]\n",
    "if not stores_with_good_growth.empty:\n",
    "    top_stores = stores_with_good_growth.sort_values(ascending=False).head()\n",
    "    print(\"Stores with good quarterly growth rate in Q3'2012:\")\n",
    "    print(top_stores)\n",
    "else:\n",
    "    print(\"No stores with positive quarterly growth rate in Q3'2012.\")\n"
   ]
  },
  {
   "cell_type": "code",
   "execution_count": 11,
   "metadata": {},
   "outputs": [
    {
     "name": "stdout",
     "output_type": "stream",
     "text": [
      "Holidays with higher sales than mean non-holiday sales:\n",
      "           Date  Weekly_Sales\n",
      "1    2010-12-02    1641957.44\n",
      "31   2010-10-09    1507460.69\n",
      "42   2010-11-26    1955624.11\n",
      "47   2010-12-31    1367320.01\n",
      "53   2011-11-02    1649614.93\n",
      "...         ...           ...\n",
      "5819 2011-12-30    1264014.16\n",
      "5825 2012-10-02    1238844.56\n",
      "5855 2012-07-09    1392143.82\n",
      "6334 2010-11-26    1182500.16\n",
      "6386 2011-11-25    1170672.94\n",
      "\n",
      "[220 rows x 2 columns]\n"
     ]
    }
   ],
   "source": [
    "non_holiday_sales_mean = data[data['Holiday_Flag'] == 0]['Weekly_Sales'].mean()\n",
    "holiday_sales = data[data['Holiday_Flag'] == 1]\n",
    "holidays_with_higher_sales = holiday_sales[holiday_sales['Weekly_Sales'] > non_holiday_sales_mean]\n",
    "print(\"Holidays with higher sales than mean non-holiday sales:\")\n",
    "print(holidays_with_higher_sales[['Date', 'Weekly_Sales']])"
   ]
  },
  {
   "cell_type": "code",
   "execution_count": 12,
   "metadata": {},
   "outputs": [
    {
     "name": "stdout",
     "output_type": "stream",
     "text": [
      "The holiday with the highest sales is: 2011-11-25 00:00:00\n",
      "The sales amount during that holiday is: $66593605.26\n"
     ]
    }
   ],
   "source": [
    "holiday_sales = data[data['Holiday_Flag'] == 1]\n",
    "holiday_total_sales = holiday_sales.groupby('Date')['Weekly_Sales'].sum()\n",
    "holiday_with_highest_sales = holiday_total_sales.idxmax()\n",
    "highest_sales_amount = holiday_total_sales.max()\n",
    "print(f\"The holiday with the highest sales is: {holiday_with_highest_sales}\")\n",
    "print(f\"The sales amount during that holiday is: ${highest_sales_amount:.2f}\")"
   ]
  },
  {
   "cell_type": "code",
   "execution_count": 18,
   "metadata": {},
   "outputs": [
    {
     "data": {
      "text/plain": [
       "Text(0.5, 1.0, 'Monthly View of Sales in Units')"
      ]
     },
     "execution_count": 18,
     "metadata": {},
     "output_type": "execute_result"
    },
    {
     "data": {
      "image/png": "[encoded data removed]",
      "text/plain": [
       "<Figure size 864x432 with 1 Axes>"
      ]
     },
     "metadata": {
      "needs_background": "light"
     },
     "output_type": "display_data"
    }
   ],
   "source": [
    "data['Month'] = data['Date'].dt.month\n",
    "data['Semester'] = (data['Month'] + 2) // 6  # Semester: 1 (Jan to Jun), 2 (Jul to Dec)\n",
    "monthly_sales = data.groupby('Month')['Weekly_Sales'].sum()\n",
    "semesterly_sales = data.groupby('Semester')['Weekly_Sales'].sum()\n",
    "plt.figure(figsize=(12, 6))\n",
    "plt.subplot(1, 2, 1)\n",
    "plt.bar(monthly_sales.index, monthly_sales.values)\n",
    "plt.xlabel('Month')\n",
    "plt.ylabel('Sales in Units')\n",
    "plt.title('Monthly View of Sales in Units')"
   ]
  },
  {
   "cell_type": "code",
   "execution_count": 16,
   "metadata": {},
   "outputs": [
    {
     "data": {
      "image/png": "[encoded data removed]",
      "text/plain": [
       "<Figure size 432x288 with 1 Axes>"
      ]
     },
     "metadata": {
      "needs_background": "light"
     },
     "output_type": "display_data"
    }
   ],
   "source": [
    "plt.subplot(1, 2, 2)\n",
    "plt.bar(semesterly_sales.index, semesterly_sales.values)\n",
    "plt.xlabel('Semester')\n",
    "plt.ylabel('Sales in Units')\n",
    "plt.title('Semester View of Sales in Units')\n",
    "plt.tight_layout()\n",
    "plt.show()"
   ]
  },
  {
   "cell_type": "code",
   "execution_count": 20,
   "metadata": {},
   "outputs": [],
   "source": [
    "import numpy as np\n",
    "from sklearn.linear_model import LinearRegression"
   ]
  },
  {
   "cell_type": "code",
   "execution_count": 21,
   "metadata": {},
   "outputs": [
    {
     "name": "stdout",
     "output_type": "stream",
     "text": [
      "Coefficients:\n",
      "Date_ID             93.547324\n",
      "CPI              16880.589048\n",
      "Unemployment    129127.775808\n",
      "Fuel_Price      -74584.300344\n",
      "dtype: float64\n",
      "Intercept:\n",
      "-2882565.8546081185\n"
     ]
    }
   ],
   "source": [
    "store_1_data = data[data['Store'] == 1].copy()\n",
    "store_1_data['Date'] = pd.to_datetime(store_1_data['Date'])\n",
    "store_1_data['Date_ID'] = (store_1_data['Date'] - store_1_data['Date'].min()).dt.days + 1\n",
    "X = store_1_data[['Date_ID', 'CPI', 'Unemployment', 'Fuel_Price']]\n",
    "y = store_1_data['Weekly_Sales']\n",
    "model = LinearRegression()\n",
    "model.fit(X, y)\n",
    "coefficients = pd.Series(model.coef_, index=X.columns)\n",
    "print(\"Coefficients:\")\n",
    "print(coefficients)\n",
    "print(\"Intercept:\")\n",
    "print(model.intercept_)"
   ]
  },
  {
   "cell_type": "code",
   "execution_count": 24,
   "metadata": {},
   "outputs": [
    {
     "name": "stdout",
     "output_type": "stream",
     "text": [
      "      Store       Date  Weekly_Sales  Holiday_Flag  Temperature  Fuel_Price  \\\n",
      "0         1 2010-05-02    1643690.90             0        42.31       2.572   \n",
      "1         1 2010-12-02    1641957.44             1        38.51       2.548   \n",
      "2         1 2010-02-19    1611968.17             0        39.93       2.514   \n",
      "3         1 2010-02-26    1409727.59             0        46.63       2.561   \n",
      "4         1 2010-05-03    1554806.68             0        46.50       2.625   \n",
      "...     ...        ...           ...           ...          ...         ...   \n",
      "6430     45 2012-09-28     713173.95             0        64.88       3.997   \n",
      "6431     45 2012-05-10     733455.07             0        64.89       3.985   \n",
      "6432     45 2012-12-10     734464.36             0        54.47       4.000   \n",
      "6433     45 2012-10-19     718125.53             0        56.47       3.969   \n",
      "6434     45 2012-10-26     760281.43             0        58.85       3.882   \n",
      "\n",
      "             CPI  Unemployment  Days_Since_Min_Date  \n",
      "0     211.096358         8.106                  113  \n",
      "1     211.242170         8.106                  327  \n",
      "2     211.289143         8.106                   41  \n",
      "3     211.319643         8.106                   48  \n",
      "4     211.350143         8.106                  114  \n",
      "...          ...           ...                  ...  \n",
      "6430  192.013558         8.684                  993  \n",
      "6431  192.170412         8.667                  852  \n",
      "6432  192.327265         8.667                 1066  \n",
      "6433  192.330854         8.667                 1014  \n",
      "6434  192.308899         8.667                 1021  \n",
      "\n",
      "[6435 rows x 9 columns]\n"
     ]
    }
   ],
   "source": [
    "data['Date'] = pd.to_datetime(data['Date'])\n",
    "min_date = data['Date'].min()\n",
    "data['Days_Since_Min_Date'] = (data['Date'] - min_date).dt.days + 1\n",
    "print(data)"
   ]
  },
  {
   "cell_type": "code",
   "execution_count": null,
   "metadata": {},
   "outputs": [],
   "source": []
  }
 ],
 "metadata": {
  "kernelspec": {
   "display_name": "Python 3",
   "language": "python",
   "name": "python3"
  },
  "language_info": {
   "codemirror_mode": {
    "name": "ipython",
    "version": 3
   },
   "file_extension": ".py",
   "mimetype": "text/x-python",
   "name": "python",
   "nbconvert_exporter": "python",
   "pygments_lexer": "ipython3",
   "version": "3.7.6"
  }
 },
 "nbformat": 4,
 "nbformat_minor": 4
}
