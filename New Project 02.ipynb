{
 "cells": [
  {
   "cell_type": "code",
   "execution_count": null,
   "metadata": {},
   "outputs": [],
   "source": [
    "Background of Problem Statement :\n",
    "\n",
    "The GroupLens Research Project is a research group in the Department of Computer Science and Engineering \n",
    "at the University of Minnesota. Members of the GroupLens Research Project are involved in many research\n",
    "projects related to the fields of information filtering, collaborative filtering, and recommender systems. \n",
    "The project is led by professors John Riedl and Joseph Konstan. The project began to explore automated \n",
    "collaborative filtering in 1992 but is most well known for its worldwide trial of an automated collaborative\n",
    "filtering system for Usenet news in 1996. Since then the project has expanded its scope to research overall\n",
    "information by filtering solutions, integrating into content-based methods, as well as, improving current\n",
    "collaborative filtering technology.\n",
    "\n",
    "Problem Objective :\n",
    "\n",
    "Here, we ask you to perform the analysis using the Exploratory Data Analysis technique. You need to find \n",
    "features affecting the ratings of any particular movie and build a model to predict the movie ratings."
   ]
  },
  {
   "cell_type": "code",
   "execution_count": 1,
   "metadata": {},
   "outputs": [],
   "source": [
    "import pandas as pd"
   ]
  },
  {
   "cell_type": "code",
   "execution_count": 2,
   "metadata": {},
   "outputs": [],
   "source": [
    "movies_df = pd.read_csv('movies.dat', header=None, sep='::', engine='python', encoding='ISO-8859-1')\n",
    "users_df = pd.read_csv('users.dat', header=None, sep='::', engine='python', encoding='ISO-8859-1')\n",
    "ratings_df = pd.read_csv('ratings.dat', header=None, sep='::', engine='python', encoding='ISO-8859-1')"
   ]
  },
  {
   "cell_type": "code",
   "execution_count": 3,
   "metadata": {},
   "outputs": [],
   "source": [
    "movies_df.columns = ['MovieID', 'Title', 'Genres']\n",
    "users_df.columns = ['UserID', 'Gender', 'Age', 'Occupation', 'Zip']\n",
    "ratings_df.columns = ['UserID', 'MovieID', 'Rating', 'Timestamp']"
   ]
  },
  {
   "cell_type": "code",
   "execution_count": 4,
   "metadata": {},
   "outputs": [],
   "source": [
    "merged_data = pd.merge(ratings_df, users_df, on='UserID')\n",
    "master_data = pd.merge(merged_data, movies_df, on='MovieID')\n",
    "master_data = master_data[['MovieID', 'Title', 'UserID', 'Age', 'Gender', 'Occupation', 'Rating']]\n",
    "master_data.to_csv('Master_Data.csv', index=False)"
   ]
  },
  {
   "cell_type": "code",
   "execution_count": 5,
   "metadata": {},
   "outputs": [
    {
     "data": {
      "text/html": [
       "<div>\n",
       "<style scoped>\n",
       "    .dataframe tbody tr th:only-of-type {\n",
       "        vertical-align: middle;\n",
       "    }\n",
       "\n",
       "    .dataframe tbody tr th {\n",
       "        vertical-align: top;\n",
       "    }\n",
       "\n",
       "    .dataframe thead th {\n",
       "        text-align: right;\n",
       "    }\n",
       "</style>\n",
       "<table border=\"1\" class=\"dataframe\">\n",
       "  <thead>\n",
       "    <tr style=\"text-align: right;\">\n",
       "      <th></th>\n",
       "      <th>MovieID</th>\n",
       "      <th>Title</th>\n",
       "      <th>UserID</th>\n",
       "      <th>Age</th>\n",
       "      <th>Gender</th>\n",
       "      <th>Occupation</th>\n",
       "      <th>Rating</th>\n",
       "    </tr>\n",
       "  </thead>\n",
       "  <tbody>\n",
       "    <tr>\n",
       "      <th>0</th>\n",
       "      <td>1193</td>\n",
       "      <td>One Flew Over the Cuckoo's Nest (1975)</td>\n",
       "      <td>1</td>\n",
       "      <td>1</td>\n",
       "      <td>F</td>\n",
       "      <td>10</td>\n",
       "      <td>5</td>\n",
       "    </tr>\n",
       "    <tr>\n",
       "      <th>1</th>\n",
       "      <td>1193</td>\n",
       "      <td>One Flew Over the Cuckoo's Nest (1975)</td>\n",
       "      <td>2</td>\n",
       "      <td>56</td>\n",
       "      <td>M</td>\n",
       "      <td>16</td>\n",
       "      <td>5</td>\n",
       "    </tr>\n",
       "    <tr>\n",
       "      <th>2</th>\n",
       "      <td>1193</td>\n",
       "      <td>One Flew Over the Cuckoo's Nest (1975)</td>\n",
       "      <td>12</td>\n",
       "      <td>25</td>\n",
       "      <td>M</td>\n",
       "      <td>12</td>\n",
       "      <td>4</td>\n",
       "    </tr>\n",
       "    <tr>\n",
       "      <th>3</th>\n",
       "      <td>1193</td>\n",
       "      <td>One Flew Over the Cuckoo's Nest (1975)</td>\n",
       "      <td>15</td>\n",
       "      <td>25</td>\n",
       "      <td>M</td>\n",
       "      <td>7</td>\n",
       "      <td>4</td>\n",
       "    </tr>\n",
       "    <tr>\n",
       "      <th>4</th>\n",
       "      <td>1193</td>\n",
       "      <td>One Flew Over the Cuckoo's Nest (1975)</td>\n",
       "      <td>17</td>\n",
       "      <td>50</td>\n",
       "      <td>M</td>\n",
       "      <td>1</td>\n",
       "      <td>5</td>\n",
       "    </tr>\n",
       "    <tr>\n",
       "      <th>...</th>\n",
       "      <td>...</td>\n",
       "      <td>...</td>\n",
       "      <td>...</td>\n",
       "      <td>...</td>\n",
       "      <td>...</td>\n",
       "      <td>...</td>\n",
       "      <td>...</td>\n",
       "    </tr>\n",
       "    <tr>\n",
       "      <th>1000204</th>\n",
       "      <td>2198</td>\n",
       "      <td>Modulations (1998)</td>\n",
       "      <td>5949</td>\n",
       "      <td>18</td>\n",
       "      <td>M</td>\n",
       "      <td>17</td>\n",
       "      <td>5</td>\n",
       "    </tr>\n",
       "    <tr>\n",
       "      <th>1000205</th>\n",
       "      <td>2703</td>\n",
       "      <td>Broken Vessels (1998)</td>\n",
       "      <td>5675</td>\n",
       "      <td>35</td>\n",
       "      <td>M</td>\n",
       "      <td>14</td>\n",
       "      <td>3</td>\n",
       "    </tr>\n",
       "    <tr>\n",
       "      <th>1000206</th>\n",
       "      <td>2845</td>\n",
       "      <td>White Boys (1999)</td>\n",
       "      <td>5780</td>\n",
       "      <td>18</td>\n",
       "      <td>M</td>\n",
       "      <td>17</td>\n",
       "      <td>1</td>\n",
       "    </tr>\n",
       "    <tr>\n",
       "      <th>1000207</th>\n",
       "      <td>3607</td>\n",
       "      <td>One Little Indian (1973)</td>\n",
       "      <td>5851</td>\n",
       "      <td>18</td>\n",
       "      <td>F</td>\n",
       "      <td>20</td>\n",
       "      <td>5</td>\n",
       "    </tr>\n",
       "    <tr>\n",
       "      <th>1000208</th>\n",
       "      <td>2909</td>\n",
       "      <td>Five Wives  Three Secretaries and Me (1998)</td>\n",
       "      <td>5938</td>\n",
       "      <td>25</td>\n",
       "      <td>M</td>\n",
       "      <td>1</td>\n",
       "      <td>4</td>\n",
       "    </tr>\n",
       "  </tbody>\n",
       "</table>\n",
       "<p>1000209 rows × 7 columns</p>\n",
       "</div>"
      ],
      "text/plain": [
       "         MovieID                                        Title  UserID  Age  \\\n",
       "0           1193       One Flew Over the Cuckoo's Nest (1975)       1    1   \n",
       "1           1193       One Flew Over the Cuckoo's Nest (1975)       2   56   \n",
       "2           1193       One Flew Over the Cuckoo's Nest (1975)      12   25   \n",
       "3           1193       One Flew Over the Cuckoo's Nest (1975)      15   25   \n",
       "4           1193       One Flew Over the Cuckoo's Nest (1975)      17   50   \n",
       "...          ...                                          ...     ...  ...   \n",
       "1000204     2198                           Modulations (1998)    5949   18   \n",
       "1000205     2703                        Broken Vessels (1998)    5675   35   \n",
       "1000206     2845                            White Boys (1999)    5780   18   \n",
       "1000207     3607                     One Little Indian (1973)    5851   18   \n",
       "1000208     2909  Five Wives  Three Secretaries and Me (1998)    5938   25   \n",
       "\n",
       "        Gender  Occupation  Rating  \n",
       "0            F          10       5  \n",
       "1            M          16       5  \n",
       "2            M          12       4  \n",
       "3            M           7       4  \n",
       "4            M           1       5  \n",
       "...        ...         ...     ...  \n",
       "1000204      M          17       5  \n",
       "1000205      M          14       3  \n",
       "1000206      M          17       1  \n",
       "1000207      F          20       5  \n",
       "1000208      M           1       4  \n",
       "\n",
       "[1000209 rows x 7 columns]"
      ]
     },
     "execution_count": 5,
     "metadata": {},
     "output_type": "execute_result"
    }
   ],
   "source": [
    "master_data"
   ]
  },
  {
   "cell_type": "code",
   "execution_count": 6,
   "metadata": {},
   "outputs": [],
   "source": [
    "import matplotlib.pyplot as plt"
   ]
  },
  {
   "cell_type": "code",
   "execution_count": 7,
   "metadata": {},
   "outputs": [],
   "source": [
    "users_df = pd.read_csv('users.dat', header=None, sep='::', engine='python', encoding='ISO-8859-1')\n",
    "users_df.columns = ['UserID', 'Gender', 'Age', 'Occupation', 'Zip']"
   ]
  },
  {
   "cell_type": "code",
   "execution_count": 8,
   "metadata": {},
   "outputs": [
    {
     "data": {
      "image/png": "[encoded data removed]",
      "text/plain": [
       "<Figure size 720x432 with 1 Axes>"
      ]
     },
     "metadata": {
      "needs_background": "light"
     },
     "output_type": "display_data"
    }
   ],
   "source": [
    "plt.figure(figsize=(10, 6))\n",
    "plt.hist(users_df['Age'], bins=30, color='skyblue', edgecolor='black')\n",
    "plt.xlabel('Age')\n",
    "plt.ylabel('Frequency')\n",
    "plt.title('User Age Distribution')\n",
    "plt.grid(True)\n",
    "plt.show()"
   ]
  },
  {
   "cell_type": "code",
   "execution_count": 9,
   "metadata": {},
   "outputs": [
    {
     "name": "stdout",
     "output_type": "stream",
     "text": [
      "\n",
      "Summary Statistics for User Age:\n",
      "count    6040.000000\n",
      "mean       30.639238\n",
      "std        12.895962\n",
      "min         1.000000\n",
      "25%        25.000000\n",
      "50%        25.000000\n",
      "75%        35.000000\n",
      "max        56.000000\n",
      "Name: Age, dtype: float64\n"
     ]
    }
   ],
   "source": [
    "age_summary = users_df['Age'].describe()\n",
    "\n",
    "print(\"\\nSummary Statistics for User Age:\")\n",
    "print(age_summary)"
   ]
  },
  {
   "cell_type": "code",
   "execution_count": 10,
   "metadata": {},
   "outputs": [],
   "source": [
    "movies_df.columns = ['MovieID', 'Title', 'Genres']\n",
    "users_df.columns = ['UserID', 'Gender', 'Age', 'Occupation', 'Zip']\n",
    "ratings_df.columns = ['UserID', 'MovieID', 'Rating', 'Timestamp']\n"
   ]
  },
  {
   "cell_type": "code",
   "execution_count": 11,
   "metadata": {},
   "outputs": [],
   "source": [
    "merged_data = pd.merge(ratings_df, users_df, on='UserID')\n",
    "master_data = pd.merge(merged_data, movies_df, on='MovieID')\n",
    "toy_story_ratings = master_data[master_data['Title'] == 'Toy Story']\n"
   ]
  },
  {
   "cell_type": "code",
   "execution_count": 12,
   "metadata": {},
   "outputs": [
    {
     "data": {
      "image/png": "[encoded data removed]",
      "text/plain": [
       "<Figure size 576x360 with 1 Axes>"
      ]
     },
     "metadata": {
      "needs_background": "light"
     },
     "output_type": "display_data"
    }
   ],
   "source": [
    "plt.figure(figsize=(8, 5))\n",
    "plt.hist(toy_story_ratings['Rating'], bins=5, range=(0.5, 5.5), color='lightgreen', edgecolor='black')\n",
    "plt.xlabel('Rating')\n",
    "plt.ylabel('Frequency')\n",
    "plt.title('User Rating Distribution for \"Toy Story\"')\n",
    "plt.xticks([1, 2, 3, 4, 5])\n",
    "plt.grid(True)\n",
    "plt.show()"
   ]
  },
  {
   "cell_type": "code",
   "execution_count": 13,
   "metadata": {},
   "outputs": [
    {
     "name": "stdout",
     "output_type": "stream",
     "text": [
      "\n",
      "Summary Statistics for User Ratings of 'Toy Story':\n",
      "count    0.0\n",
      "mean     NaN\n",
      "std      NaN\n",
      "min      NaN\n",
      "25%      NaN\n",
      "50%      NaN\n",
      "75%      NaN\n",
      "max      NaN\n",
      "Name: Rating, dtype: float64\n"
     ]
    }
   ],
   "source": [
    "rating_summary = toy_story_ratings['Rating'].describe()\n",
    "\n",
    "print(\"\\nSummary Statistics for User Ratings of 'Toy Story':\")\n",
    "print(rating_summary)"
   ]
  },
  {
   "cell_type": "code",
   "execution_count": 29,
   "metadata": {},
   "outputs": [
    {
     "data": {
      "image/png": "[encoded data removed]",
      "text/plain": [
       "<Figure size 864x576 with 1 Axes>"
      ]
     },
     "metadata": {
      "needs_background": "light"
     },
     "output_type": "display_data"
    }
   ],
   "source": [
    "movie_ratings = master_data.groupby('Title')['Rating'].mean()\n",
    "top_25_movies = movie_ratings.sort_values(ascending=False).head(25)\n",
    "movie_ratings = ratings_df.groupby('MovieID')['Rating'].mean()\n",
    "top_25_movies = movie_ratings.nlargest(25)\n",
    "top_25_movies = pd.merge(top_25_movies, movies_df[['MovieID', 'Title']], on='MovieID')\n",
    "plt.figure(figsize=(12, 8))\n",
    "plt.barh(top_25_movies['Title'], top_25_movies['Rating'])\n",
    "plt.xlabel('Average Rating')\n",
    "plt.ylabel('Movie Title')\n",
    "plt.title('Top 25 Movies by Viewership Rating')\n",
    "plt.gca().invert_yaxis()\n",
    "plt.tight_layout()\n",
    "plt.show()"
   ]
  },
  {
   "cell_type": "code",
   "execution_count": 31,
   "metadata": {},
   "outputs": [
    {
     "data": {
      "text/html": [
       "<div>\n",
       "<style scoped>\n",
       "    .dataframe tbody tr th:only-of-type {\n",
       "        vertical-align: middle;\n",
       "    }\n",
       "\n",
       "    .dataframe tbody tr th {\n",
       "        vertical-align: top;\n",
       "    }\n",
       "\n",
       "    .dataframe thead th {\n",
       "        text-align: right;\n",
       "    }\n",
       "</style>\n",
       "<table border=\"1\" class=\"dataframe\">\n",
       "  <thead>\n",
       "    <tr style=\"text-align: right;\">\n",
       "      <th></th>\n",
       "      <th>MovieID</th>\n",
       "      <th>Rating</th>\n",
       "      <th>Title</th>\n",
       "    </tr>\n",
       "  </thead>\n",
       "  <tbody>\n",
       "    <tr>\n",
       "      <th>0</th>\n",
       "      <td>787</td>\n",
       "      <td>5.000000</td>\n",
       "      <td>Gate of Heavenly Peace  The (1995)</td>\n",
       "    </tr>\n",
       "    <tr>\n",
       "      <th>1</th>\n",
       "      <td>989</td>\n",
       "      <td>5.000000</td>\n",
       "      <td>Schlafes Bruder (Brother of Sleep) (1995)</td>\n",
       "    </tr>\n",
       "    <tr>\n",
       "      <th>2</th>\n",
       "      <td>1830</td>\n",
       "      <td>5.000000</td>\n",
       "      <td>Follow the Bitch (1998)</td>\n",
       "    </tr>\n",
       "    <tr>\n",
       "      <th>3</th>\n",
       "      <td>3172</td>\n",
       "      <td>5.000000</td>\n",
       "      <td>Ulysses (Ulisse) (1954)</td>\n",
       "    </tr>\n",
       "    <tr>\n",
       "      <th>4</th>\n",
       "      <td>3233</td>\n",
       "      <td>5.000000</td>\n",
       "      <td>Smashing Time (1967)</td>\n",
       "    </tr>\n",
       "    <tr>\n",
       "      <th>5</th>\n",
       "      <td>3280</td>\n",
       "      <td>5.000000</td>\n",
       "      <td>Baby  The (1973)</td>\n",
       "    </tr>\n",
       "    <tr>\n",
       "      <th>6</th>\n",
       "      <td>3382</td>\n",
       "      <td>5.000000</td>\n",
       "      <td>Song of Freedom (1936)</td>\n",
       "    </tr>\n",
       "    <tr>\n",
       "      <th>7</th>\n",
       "      <td>3607</td>\n",
       "      <td>5.000000</td>\n",
       "      <td>One Little Indian (1973)</td>\n",
       "    </tr>\n",
       "    <tr>\n",
       "      <th>8</th>\n",
       "      <td>3656</td>\n",
       "      <td>5.000000</td>\n",
       "      <td>Lured (1947)</td>\n",
       "    </tr>\n",
       "    <tr>\n",
       "      <th>9</th>\n",
       "      <td>3881</td>\n",
       "      <td>5.000000</td>\n",
       "      <td>Bittersweet Motel (2000)</td>\n",
       "    </tr>\n",
       "    <tr>\n",
       "      <th>10</th>\n",
       "      <td>3245</td>\n",
       "      <td>4.800000</td>\n",
       "      <td>I Am Cuba (Soy Cuba/Ya Kuba) (1964)</td>\n",
       "    </tr>\n",
       "    <tr>\n",
       "      <th>11</th>\n",
       "      <td>53</td>\n",
       "      <td>4.750000</td>\n",
       "      <td>Lamerica (1994)</td>\n",
       "    </tr>\n",
       "    <tr>\n",
       "      <th>12</th>\n",
       "      <td>2503</td>\n",
       "      <td>4.666667</td>\n",
       "      <td>Apple  The (Sib) (1998)</td>\n",
       "    </tr>\n",
       "    <tr>\n",
       "      <th>13</th>\n",
       "      <td>2905</td>\n",
       "      <td>4.608696</td>\n",
       "      <td>Sanjuro (1962)</td>\n",
       "    </tr>\n",
       "    <tr>\n",
       "      <th>14</th>\n",
       "      <td>2019</td>\n",
       "      <td>4.560510</td>\n",
       "      <td>Seven Samurai (The Magnificent Seven) (Shichin...</td>\n",
       "    </tr>\n",
       "    <tr>\n",
       "      <th>15</th>\n",
       "      <td>318</td>\n",
       "      <td>4.554558</td>\n",
       "      <td>Shawshank Redemption  The (1994)</td>\n",
       "    </tr>\n",
       "    <tr>\n",
       "      <th>16</th>\n",
       "      <td>858</td>\n",
       "      <td>4.524966</td>\n",
       "      <td>Godfather  The (1972)</td>\n",
       "    </tr>\n",
       "    <tr>\n",
       "      <th>17</th>\n",
       "      <td>745</td>\n",
       "      <td>4.520548</td>\n",
       "      <td>Close Shave  A (1995)</td>\n",
       "    </tr>\n",
       "    <tr>\n",
       "      <th>18</th>\n",
       "      <td>50</td>\n",
       "      <td>4.517106</td>\n",
       "      <td>Usual Suspects The (1995)</td>\n",
       "    </tr>\n",
       "    <tr>\n",
       "      <th>19</th>\n",
       "      <td>527</td>\n",
       "      <td>4.510417</td>\n",
       "      <td>Schindler's List (1993)</td>\n",
       "    </tr>\n",
       "    <tr>\n",
       "      <th>20</th>\n",
       "      <td>1148</td>\n",
       "      <td>4.507937</td>\n",
       "      <td>Wrong Trousers  The (1993)</td>\n",
       "    </tr>\n",
       "    <tr>\n",
       "      <th>21</th>\n",
       "      <td>439</td>\n",
       "      <td>4.500000</td>\n",
       "      <td>Dangerous Game (1993)</td>\n",
       "    </tr>\n",
       "    <tr>\n",
       "      <th>22</th>\n",
       "      <td>557</td>\n",
       "      <td>4.500000</td>\n",
       "      <td>Mamma Roma (1962)</td>\n",
       "    </tr>\n",
       "    <tr>\n",
       "      <th>23</th>\n",
       "      <td>578</td>\n",
       "      <td>4.500000</td>\n",
       "      <td>Hour of the Pig  The (1993)</td>\n",
       "    </tr>\n",
       "    <tr>\n",
       "      <th>24</th>\n",
       "      <td>1795</td>\n",
       "      <td>4.500000</td>\n",
       "      <td>Callejón de los milagros  El (1995)</td>\n",
       "    </tr>\n",
       "  </tbody>\n",
       "</table>\n",
       "</div>"
      ],
      "text/plain": [
       "    MovieID    Rating                                              Title\n",
       "0       787  5.000000                 Gate of Heavenly Peace  The (1995)\n",
       "1       989  5.000000          Schlafes Bruder (Brother of Sleep) (1995)\n",
       "2      1830  5.000000                            Follow the Bitch (1998)\n",
       "3      3172  5.000000                            Ulysses (Ulisse) (1954)\n",
       "4      3233  5.000000                               Smashing Time (1967)\n",
       "5      3280  5.000000                                   Baby  The (1973)\n",
       "6      3382  5.000000                             Song of Freedom (1936)\n",
       "7      3607  5.000000                           One Little Indian (1973)\n",
       "8      3656  5.000000                                       Lured (1947)\n",
       "9      3881  5.000000                           Bittersweet Motel (2000)\n",
       "10     3245  4.800000                I Am Cuba (Soy Cuba/Ya Kuba) (1964)\n",
       "11       53  4.750000                                    Lamerica (1994)\n",
       "12     2503  4.666667                            Apple  The (Sib) (1998)\n",
       "13     2905  4.608696                                     Sanjuro (1962)\n",
       "14     2019  4.560510  Seven Samurai (The Magnificent Seven) (Shichin...\n",
       "15      318  4.554558                   Shawshank Redemption  The (1994)\n",
       "16      858  4.524966                              Godfather  The (1972)\n",
       "17      745  4.520548                              Close Shave  A (1995)\n",
       "18       50  4.517106                          Usual Suspects The (1995)\n",
       "19      527  4.510417                            Schindler's List (1993)\n",
       "20     1148  4.507937                         Wrong Trousers  The (1993)\n",
       "21      439  4.500000                              Dangerous Game (1993)\n",
       "22      557  4.500000                                  Mamma Roma (1962)\n",
       "23      578  4.500000                        Hour of the Pig  The (1993)\n",
       "24     1795  4.500000                Callejón de los milagros  El (1995)"
      ]
     },
     "execution_count": 31,
     "metadata": {},
     "output_type": "execute_result"
    }
   ],
   "source": [
    "print(top_25_movies)"
   ]
  },
  {
   "cell_type": "code",
   "execution_count": 15,
   "metadata": {},
   "outputs": [
    {
     "name": "stdout",
     "output_type": "stream",
     "text": [
      "Ratings for all movies reviewed by User ID 2696:\n",
      "                                                 Title  Rating\n",
      "24345                        Back to the Future (1985)       2\n",
      "29848                E.T. the Extra-Terrestrial (1982)       3\n",
      "244232                        L.A. Confidential (1997)       4\n",
      "250014                                Lone Star (1996)       5\n",
      "273633                                      JFK (1991)       1\n",
      "277808                 Talented Mr. Ripley  The (1999)       4\n",
      "371178  Midnight in the Garden of Good and Evil (1997)       4\n",
      "377250                                 Cop Land (1997)       3\n",
      "598042                                 Palmetto (1998)       4\n",
      "603189                        Perfect Murder  A (1998)       4\n",
      "609204                                Game  The (1997)       4\n",
      "611956          I Know What You Did Last Summer (1997)       2\n",
      "612552                    Devil's Advocate  The (1997)       4\n",
      "613486                                   Psycho (1998)       4\n",
      "616546                              Wild Things (1998)       4\n",
      "618708                           Basic Instinct (1992)       4\n",
      "621101                              Lake Placid (1999)       1\n",
      "689379                             Shining  The (1980)       4\n",
      "697451    I Still Know What You Did Last Summer (1998)       2\n",
      "777089                              Client  The (1994)       3\n"
     ]
    }
   ],
   "source": [
    "user_2696_ratings = master_data[master_data['UserID'] == 2696]\n",
    "print(\"Ratings for all movies reviewed by User ID 2696:\")\n",
    "print(user_2696_ratings[['Title', 'Rating']])\n"
   ]
  },
  {
   "cell_type": "code",
   "execution_count": 30,
   "metadata": {},
   "outputs": [
    {
     "data": {
      "image/png": "[encoded data removed]",
      "text/plain": [
       "<Figure size 720x432 with 1 Axes>"
      ]
     },
     "metadata": {
      "needs_background": "light"
     },
     "output_type": "display_data"
    }
   ],
   "source": [
    "user_2696_ratings = ratings_df[ratings_df['UserID'] == 2696]\n",
    "plt.figure(figsize=(10, 6))\n",
    "plt.bar(user_2696_ratings['MovieID'], user_2696_ratings['Rating'])\n",
    "plt.xlabel('Movie ID')\n",
    "plt.ylabel('Rating')\n",
    "plt.title('Ratings Given by User ID 2696')\n",
    "plt.xticks(rotation=45)\n",
    "plt.tight_layout()\n",
    "plt.show()"
   ]
  },
  {
   "cell_type": "code",
   "execution_count": 16,
   "metadata": {},
   "outputs": [
    {
     "name": "stdout",
     "output_type": "stream",
     "text": [
      "Unique Genres:\n",
      "{'War', 'Mystery', 'Animation', \"Children's\", 'Fantasy', 'Documentary', 'Action', 'Comedy', 'Western', 'Sci-Fi', 'Thriller', 'Adventure', 'Romance', 'Drama', 'Crime', 'Film-Noir', 'Horror', 'Musical'}\n"
     ]
    }
   ],
   "source": [
    "movies_df['Genres'] = movies_df['Genres'].str.split('|')\n",
    "unique_genres = set()\n",
    "for genres_list in movies_df['Genres']:\n",
    "    unique_genres.update(genres_list)\n",
    "print(\"Unique Genres:\")\n",
    "print(unique_genres)"
   ]
  },
  {
   "cell_type": "code",
   "execution_count": 17,
   "metadata": {},
   "outputs": [
    {
     "name": "stdout",
     "output_type": "stream",
     "text": [
      "      MovieID                               Title  \\\n",
      "0           1                    Toy Story (1995)   \n",
      "1           2                      Jumanji (1995)   \n",
      "2           3             Grumpier Old Men (1995)   \n",
      "3           4            Waiting to Exhale (1995)   \n",
      "4           5  Father of the Bride Part II (1995)   \n",
      "...       ...                                 ...   \n",
      "3878     3948             Meet the Parents (2000)   \n",
      "3879     3949          Requiem for a Dream (2000)   \n",
      "3880     3950                    Tigerland (2000)   \n",
      "3881     3951             Two Family House (2000)   \n",
      "3882     3952               Contender  The (2000)   \n",
      "\n",
      "                                Genres  Action  Adventure  Animation  \\\n",
      "0      [Animation, Children's, Comedy]       0          0          1   \n",
      "1     [Adventure, Children's, Fantasy]       0          1          0   \n",
      "2                    [Comedy, Romance]       0          0          0   \n",
      "3                      [Comedy, Drama]       0          0          0   \n",
      "4                             [Comedy]       0          0          0   \n",
      "...                                ...     ...        ...        ...   \n",
      "3878                          [Comedy]       0          0          0   \n",
      "3879                           [Drama]       0          0          0   \n",
      "3880                           [Drama]       0          0          0   \n",
      "3881                           [Drama]       0          0          0   \n",
      "3882                 [Drama, Thriller]       0          0          0   \n",
      "\n",
      "      Children's  Comedy  Crime  Documentary  ...  Fantasy  Film-Noir  Horror  \\\n",
      "0              1       1      0            0  ...        0          0       0   \n",
      "1              1       0      0            0  ...        1          0       0   \n",
      "2              0       1      0            0  ...        0          0       0   \n",
      "3              0       1      0            0  ...        0          0       0   \n",
      "4              0       1      0            0  ...        0          0       0   \n",
      "...          ...     ...    ...          ...  ...      ...        ...     ...   \n",
      "3878           0       1      0            0  ...        0          0       0   \n",
      "3879           0       0      0            0  ...        0          0       0   \n",
      "3880           0       0      0            0  ...        0          0       0   \n",
      "3881           0       0      0            0  ...        0          0       0   \n",
      "3882           0       0      0            0  ...        0          0       0   \n",
      "\n",
      "      Musical  Mystery  Romance  Sci-Fi  Thriller  War  Western  \n",
      "0           0        0        0       0         0    0        0  \n",
      "1           0        0        0       0         0    0        0  \n",
      "2           0        0        1       0         0    0        0  \n",
      "3           0        0        0       0         0    0        0  \n",
      "4           0        0        0       0         0    0        0  \n",
      "...       ...      ...      ...     ...       ...  ...      ...  \n",
      "3878        0        0        0       0         0    0        0  \n",
      "3879        0        0        0       0         0    0        0  \n",
      "3880        0        0        0       0         0    0        0  \n",
      "3881        0        0        0       0         0    0        0  \n",
      "3882        0        0        0       0         1    0        0  \n",
      "\n",
      "[3883 rows x 21 columns]\n"
     ]
    }
   ],
   "source": [
    "one_hot_encoded_genres = movies_df['Genres'].str.join('|').str.get_dummies()\n",
    "movies_df = pd.concat([movies_df, one_hot_encoded_genres], axis=1)\n",
    "print(movies_df)"
   ]
  },
  {
   "cell_type": "code",
   "execution_count": 23,
   "metadata": {},
   "outputs": [],
   "source": [
    "from surprise import Reader, Dataset, SVD\n",
    "from surprise.model_selection import train_test_split\n",
    "from surprise import accuracy"
   ]
  },
  {
   "cell_type": "code",
   "execution_count": 24,
   "metadata": {},
   "outputs": [
    {
     "name": "stdout",
     "output_type": "stream",
     "text": [
      "RMSE: 0.8746\n"
     ]
    }
   ],
   "source": [
    "reader = Reader(line_format='user item rating timestamp', sep='::', rating_scale=(1, 5))\n",
    "data = Dataset.load_from_file('ratings.dat', reader=reader)\n",
    "trainset, testset = train_test_split(data, test_size=0.2, random_state=42)\n",
    "model = SVD()\n",
    "model.fit(trainset)\n",
    "predictions = model.test(testset)\n",
    "rmse = accuracy.rmse(predictions)"
   ]
  },
  {
   "cell_type": "code",
   "execution_count": 26,
   "metadata": {},
   "outputs": [
    {
     "name": "stdout",
     "output_type": "stream",
     "text": [
      "Example Predictions:\n",
      "User: 1841 | Movie: 3717 | Actual Rating: 1.0 | Predicted Rating: 1.8920816904090336\n",
      "User: 3715 | Movie: 880 | Actual Rating: 3.0 | Predicted Rating: 3.2303089337543596\n",
      "User: 2002 | Movie: 3072 | Actual Rating: 4.0 | Predicted Rating: 3.8279858671580542\n",
      "User: 3332 | Movie: 2734 | Actual Rating: 3.0 | Predicted Rating: 3.5780024937674226\n",
      "User: 3576 | Movie: 631 | Actual Rating: 3.0 | Predicted Rating: 2.6515311876042444\n",
      "User: 2092 | Movie: 3247 | Actual Rating: 3.0 | Predicted Rating: 2.6385902504034497\n",
      "User: 5283 | Movie: 2643 | Actual Rating: 1.0 | Predicted Rating: 1.997814275838243\n",
      "User: 4610 | Movie: 2124 | Actual Rating: 3.0 | Predicted Rating: 2.9472743345748196\n",
      "User: 398 | Movie: 3176 | Actual Rating: 4.0 | Predicted Rating: 3.605907424975234\n",
      "User: 4533 | Movie: 357 | Actual Rating: 4.0 | Predicted Rating: 3.6242423442212313\n"
     ]
    }
   ],
   "source": [
    "print(\"Example Predictions:\")\n",
    "for uid, iid, true_r, est, _ in predictions[:10]:\n",
    "    print(\"User:\", uid, \"| Movie:\", iid, \"| Actual Rating:\", true_r, \"| Predicted Rating:\", est)\n"
   ]
  },
  {
   "cell_type": "code",
   "execution_count": null,
   "metadata": {},
   "outputs": [],
   "source": []
  }
 ],
 "metadata": {
  "kernelspec": {
   "display_name": "Python 3",
   "language": "python",
   "name": "python3"
  },
  "language_info": {
   "codemirror_mode": {
    "name": "ipython",
    "version": 3
   },
   "file_extension": ".py",
   "mimetype": "text/x-python",
   "name": "python",
   "nbconvert_exporter": "python",
   "pygments_lexer": "ipython3",
   "version": "3.7.6"
  }
 },
 "nbformat": 4,
 "nbformat_minor": 4
}
